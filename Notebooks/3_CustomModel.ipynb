{
  "cells": [
    {
      "cell_type": "markdown",
      "id": "86236042",
      "metadata": {
        "id": "86236042"
      },
      "source": [
        "# Custom Ensemble Models"
      ]
    },
    {
      "cell_type": "code",
      "execution_count": 3,
      "id": "b80da21c",
      "metadata": {
        "id": "b80da21c"
      },
      "outputs": [],
      "source": [
        "import random\n",
        "import os\n",
        "import pandas as pd\n",
        "import numpy as np\n",
        "import matplotlib.pyplot as plt\n",
        "import seaborn as sns\n",
        "from sklearn.model_selection import train_test_split\n",
        "from sklearn.metrics import f1_score, roc_curve, precision_score, recall_score, confusion_matrix, auc\n",
        "from imblearn.over_sampling import RandomOverSampler, SMOTE\n",
        "from sklearn.model_selection import cross_val_score\n",
        "from sklearn.model_selection import GridSearchCV\n",
        "from sklearn.preprocessing import StandardScaler\n",
        "from joblib import dump, load\n",
        "from sklearn.tree import DecisionTreeClassifier\n",
        "from sklearn.linear_model import LogisticRegression\n",
        "from sklearn.svm import SVC\n",
        "import lightgbm\n",
        "from sklearn.ensemble import RandomForestClassifier"
      ]
    },
    {
      "cell_type": "code",
      "source": [
        "from google.colab import drive\n",
        "drive.mount('/content/drive')"
      ],
      "metadata": {
        "colab": {
          "base_uri": "https://localhost:8080/"
        },
        "id": "k8H8r2_ChkRM",
        "outputId": "a3dfa067-97bb-42cf-df68-ae9f0c560ec3"
      },
      "id": "k8H8r2_ChkRM",
      "execution_count": 1,
      "outputs": [
        {
          "output_type": "stream",
          "name": "stdout",
          "text": [
            "Mounted at /content/drive\n"
          ]
        }
      ]
    },
    {
      "cell_type": "markdown",
      "id": "0faafbba",
      "metadata": {
        "id": "0faafbba"
      },
      "source": [
        "# 1. Train-Test Split(80:20)"
      ]
    },
    {
      "cell_type": "code",
      "execution_count": 4,
      "id": "1d867bf2",
      "metadata": {
        "colab": {
          "base_uri": "https://localhost:8080/"
        },
        "id": "1d867bf2",
        "outputId": "8a4b3a74-2bec-43d6-b0b2-eb8906205030"
      },
      "outputs": [
        {
          "output_type": "stream",
          "name": "stdout",
          "text": [
            "Shape of train data:  (4328, 20)\n",
            "Shape of test data:  (1082, 20)\n"
          ]
        }
      ],
      "source": [
        "df = pd.read_csv(\"/content/drive/MyDrive/Colab Notebooks/Self_Case_study/train_final20.csv\")\n",
        "X =  df.drop(['PotentialFraud'], axis=1)\n",
        "Y = df['PotentialFraud'].values\n",
        "X_train, X_test, y_train, y_test = train_test_split(X, Y, test_size=0.2, stratify=Y, random_state=42)\n",
        "print(\"Shape of train data: \", X_train.shape)\n",
        "print(\"Shape of test data: \", X_test.shape)"
      ]
    },
    {
      "cell_type": "code",
      "execution_count": 5,
      "id": "6db9ebbd",
      "metadata": {
        "id": "6db9ebbd"
      },
      "outputs": [],
      "source": [
        "# Scaling data\n",
        "s = StandardScaler()\n",
        "X_train = s.fit_transform(X_train)\n",
        "X_test = s.transform(X_test)"
      ]
    },
    {
      "cell_type": "markdown",
      "id": "38726569",
      "metadata": {
        "id": "38726569"
      },
      "source": [
        "# 2. Splitting train data(50:50)"
      ]
    },
    {
      "cell_type": "code",
      "execution_count": 6,
      "id": "629a3d3d",
      "metadata": {
        "colab": {
          "base_uri": "https://localhost:8080/"
        },
        "id": "629a3d3d",
        "outputId": "edc3000e-3a01-4cf0-c031-9e9964c947e4"
      },
      "outputs": [
        {
          "output_type": "stream",
          "name": "stdout",
          "text": [
            "Shape of train data:  (2164, 20)\n",
            "Shape of test data:  (2164, 20)\n"
          ]
        }
      ],
      "source": [
        "D1_50, D2_50, y1_50, y2_50 = train_test_split(X_train, y_train, test_size=0.5, stratify=y_train, random_state=42)\n",
        "print(\"Shape of train data: \", D1_50.shape)\n",
        "print(\"Shape of test data: \", D2_50.shape)"
      ]
    },
    {
      "cell_type": "markdown",
      "id": "9d7b3379",
      "metadata": {
        "id": "9d7b3379"
      },
      "source": [
        "# 3. Creating k models"
      ]
    },
    {
      "cell_type": "code",
      "execution_count": 7,
      "id": "e5903488",
      "metadata": {
        "id": "e5903488"
      },
      "outputs": [],
      "source": [
        "def get_kmodels(x, y, k, size):\n",
        "    '''This function generates creates k random samples from data\n",
        "       and then fits k different models on them'''\n",
        "    models = []\n",
        "    for i in range(k):\n",
        "        indices = np.random.choice(len(x), size, replace=True)\n",
        "        xi, yi = x[indices], y[indices]\n",
        "        model = LogisticRegression(C=0.23357214690901212, class_weight='balanced',\n",
        "                                   max_iter=1000).fit(xi, yi)\n",
        "        models.append(model)\n",
        "    return models"
      ]
    },
    {
      "cell_type": "markdown",
      "id": "6c32abdc",
      "metadata": {
        "id": "6c32abdc"
      },
      "source": [
        "# 4. Stacked Classifiers on metadata with k predictions"
      ]
    },
    {
      "cell_type": "code",
      "execution_count": 8,
      "id": "5fc8e10b",
      "metadata": {
        "id": "5fc8e10b"
      },
      "outputs": [],
      "source": [
        "def generate_data(x, models):\n",
        "    '''This function generates metadata with k predictions of k models'''\n",
        "    res_x = []\n",
        "    for model in models:\n",
        "        res_x.append(model.predict(x))\n",
        "    res_x = np.array(res_x).T\n",
        "    \n",
        "    return res_x"
      ]
    },
    {
      "cell_type": "markdown",
      "id": "faca6d81",
      "metadata": {
        "id": "faca6d81"
      },
      "source": [
        "## 4.1 lightgbm as Stack Classifier"
      ]
    },
    {
      "cell_type": "code",
      "execution_count": null,
      "id": "8f83f99e",
      "metadata": {
        "id": "8f83f99e",
        "outputId": "00547dc8-68f4-479b-8953-777d636923ed",
        "colab": {
          "base_uri": "https://localhost:8080/"
        }
      },
      "outputs": [
        {
          "output_type": "stream",
          "name": "stdout",
          "text": [
            "Fitting 3 folds for each of 35 candidates, totalling 105 fits\n",
            "Fitting 3 folds for each of 35 candidates, totalling 105 fits\n",
            "Fitting 3 folds for each of 35 candidates, totalling 105 fits\n",
            "Fitting 3 folds for each of 35 candidates, totalling 105 fits\n",
            "Fitting 3 folds for each of 35 candidates, totalling 105 fits\n",
            "\n",
            "Results for lightgbm model\n",
            "k:  [20, 50, 100, 200, 500]\n",
            " recall score:  [0.7672666081357916, 0.7673397717295872, 0.7823383084577115, 0.7770705297044191, 0.7622914837576822]\n",
            "\n",
            "LGBMClassifier(class_weight='balanced', learning_rate=0.002, n_estimators=500)\n"
          ]
        }
      ],
      "source": [
        "# Hypertuning 'k' using lightgbm as as Stack Classifier\n",
        "\n",
        "scores = []\n",
        "lightgbm_models = []\n",
        "\n",
        "for k in [20, 50, 100, 200, 500]:\n",
        "    #Generating models\n",
        "    models = get_kmodels(D1_50, y1_50, k, 1200)\n",
        "    # Generating meta-data\n",
        "    x_meta = generate_data(D2_50, models)\n",
        "    y_meta = y2_50\n",
        "\n",
        "    clf = GridSearchCV(lightgbm.LGBMClassifier(class_weight='balanced'),\n",
        "                       param_grid = {'learning_rate': [0.001, 0.002, 0.005, 0.1, 0.3, 0.5, 0.7],\n",
        "                                     'n_estimators': [50, 100, 200, 300, 500]},\n",
        "                       scoring='recall', verbose=1,\n",
        "                       n_jobs=-1, cv=3)\n",
        "\n",
        "    clf.fit(x_meta, y_meta)\n",
        "    scores.append(clf.best_score_)\n",
        "    lightgbm_models.append(clf.best_estimator_)\n",
        "    \n",
        "\n",
        "print()\n",
        "print(\"Results for lightgbm model\")\n",
        "print(\"k: \", [20, 50, 100, 200, 500])\n",
        "print(\" recall score: \", scores)\n",
        "print()\n",
        "print(lightgbm_models[np.argmax(scores)])"
      ]
    },
    {
      "cell_type": "markdown",
      "id": "aaa6d81e",
      "metadata": {
        "id": "aaa6d81e"
      },
      "source": [
        "## Observations:\n",
        "<ul>\n",
        "    <li> Best recall score of 0.7823 for lighgbm as stack classifier was obtained for k = 100 </li>\n",
        "</ul>"
      ]
    },
    {
      "cell_type": "markdown",
      "id": "786759d0",
      "metadata": {
        "id": "786759d0"
      },
      "source": [
        "## 4.2 RandomForest as Stack Classifier"
      ]
    },
    {
      "cell_type": "code",
      "execution_count": null,
      "id": "2f22d94e",
      "metadata": {
        "id": "2f22d94e",
        "outputId": "cb0a1291-dbae-4054-b8f7-a2576e5f7116",
        "colab": {
          "base_uri": "https://localhost:8080/"
        }
      },
      "outputs": [
        {
          "output_type": "stream",
          "name": "stdout",
          "text": [
            "Fitting 3 folds for each of 72 candidates, totalling 216 fits\n",
            "Fitting 3 folds for each of 72 candidates, totalling 216 fits\n",
            "Fitting 3 folds for each of 72 candidates, totalling 216 fits\n",
            "Fitting 3 folds for each of 72 candidates, totalling 216 fits\n",
            "Fitting 3 folds for each of 72 candidates, totalling 216 fits\n",
            "\n",
            "Results for RandomForest model\n",
            "k:  [20, 50, 100, 200, 500]\n",
            "recall score:  [0.7128328943517706, 0.7128328943517706, 0.7029558091893474, 0.7128328943517706, 0.7128328943517706]\n",
            "\n",
            "RandomForestClassifier(class_weight='balanced', max_depth=5)\n"
          ]
        }
      ],
      "source": [
        "# Hypertuning 'k' using RandomForest as as Stack Classifier\n",
        "\n",
        "scores = []\n",
        "forest_models = []\n",
        "\n",
        "for k in [20, 50, 100, 200, 500]:\n",
        "    # Generating models\n",
        "    models = get_kmodels(D1_50, y1_50, 500, 1200)\n",
        "    # Generating meta-data\n",
        "    x_meta = generate_data(D2_50, models)\n",
        "    y_meta = y2_50\n",
        "\n",
        "    clf = GridSearchCV(RandomForestClassifier(class_weight='balanced'),\n",
        "                       param_grid = {'n_estimators': [50, 100, 200, 300, 500, 1000],\n",
        "                                     'max_depth': [5, 10, 50, None],\n",
        "                                     'max_features': ['auto', 'sqrt', 'log2']},\n",
        "                       scoring='recall', verbose=1,\n",
        "                       n_jobs=-1, cv=3)\n",
        "\n",
        "\n",
        "    clf.fit(x_meta, y_meta)\n",
        "    scores.append(clf.best_score_)\n",
        "    forest_models.append(clf.best_estimator_)\n",
        "    \n",
        "\n",
        "print()\n",
        "print(\"Results for RandomForest model\")\n",
        "print(\"k: \", [20, 50, 100, 200, 500])\n",
        "print(\"recall score: \", scores)\n",
        "print()\n",
        "best_forest = forest_models[np.argmax(scores)]\n",
        "print(best_forest)"
      ]
    },
    {
      "cell_type": "markdown",
      "id": "0c3f7cfb",
      "metadata": {
        "id": "0c3f7cfb"
      },
      "source": [
        "## Observations:\n",
        "<ul>\n",
        "    <li> Best recall score of 0.7128 for RandomForest as stack classifier was obtained for k = 20 </li>\n",
        "    <li> RandomForest Classifier performed lesser than lightgbm. </li>\n",
        "</ul>"
      ]
    },
    {
      "cell_type": "markdown",
      "id": "2e90525e",
      "metadata": {
        "id": "2e90525e"
      },
      "source": [
        "## 4.3 SVM as Stack Classifier"
      ]
    },
    {
      "cell_type": "code",
      "execution_count": null,
      "id": "9864dbaa",
      "metadata": {
        "id": "9864dbaa",
        "outputId": "fbdb93c0-2bb0-4e1d-ef56-223061f98112",
        "colab": {
          "base_uri": "https://localhost:8080/"
        }
      },
      "outputs": [
        {
          "output_type": "stream",
          "name": "stdout",
          "text": [
            "Fitting 3 folds for each of 75 candidates, totalling 225 fits\n",
            "Fitting 3 folds for each of 75 candidates, totalling 225 fits\n",
            "Fitting 3 folds for each of 75 candidates, totalling 225 fits\n",
            "Fitting 3 folds for each of 75 candidates, totalling 225 fits\n",
            "Fitting 3 folds for each of 75 candidates, totalling 225 fits\n",
            "\n",
            "Results for SVM model\n",
            "k:  [20, 50, 100, 200, 500]\n",
            "recall score:  [0.8516242317822651, 0.8516242317822651, 0.8516242317822651, 0.8615013169446883, 0.8516242317822651]\n",
            "\n",
            "SVC(C=0.01778279410038923, class_weight='balanced', gamma=1.3894954943731375,\n",
            "    probability=True)\n"
          ]
        }
      ],
      "source": [
        "# Hypertuning 'k' using SVM as as Stack Classifier\n",
        "\n",
        "scores = []\n",
        "svm_models = []\n",
        "\n",
        "for k in [20, 50, 100, 200, 500]:\n",
        "    # Generating models\n",
        "    models = get_kmodels(D1_50, y1_50, 500, 1200)\n",
        "    # Generating meta-data\n",
        "    x_meta = generate_data(D2_50, models)\n",
        "    y_meta = y2_50\n",
        "\n",
        "    c_range = np.logspace(-3, 2, 5)\n",
        "    gamma = np.logspace(-2, 3, 15)\n",
        "\n",
        "    clf = GridSearchCV(SVC(class_weight='balanced', probability=True),\n",
        "                       param_grid = {'C':c_range, 'gamma':gamma},\n",
        "                       scoring='recall', verbose=1,\n",
        "                       n_jobs=-1, cv=3)\n",
        "\n",
        "\n",
        "    clf.fit(x_meta, y_meta)\n",
        "    scores.append(clf.best_score_)\n",
        "    svm_models.append(clf.best_estimator_)\n",
        "    \n",
        "\n",
        "print()\n",
        "print(\"Results for SVM model\")\n",
        "print(\"k: \", [20, 50, 100, 200, 500])\n",
        "print(\"recall score: \", scores)\n",
        "print()\n",
        "best_svm = svm_models[np.argmax(\n",
        "    scores)]\n",
        "print(best_svm)"
      ]
    },
    {
      "cell_type": "markdown",
      "id": "04d8bfa8",
      "metadata": {
        "id": "04d8bfa8"
      },
      "source": [
        "## Observations:\n",
        "<ul>\n",
        "    <li> Best recall score of 0.8615 for SVM as stack classifier was obtained for k = 200 </li>\n",
        "    <li> SVM model gave the best results as a Stack Classifier. </li>\n",
        "</ul>"
      ]
    },
    {
      "cell_type": "markdown",
      "id": "8f60d141",
      "metadata": {
        "id": "8f60d141"
      },
      "source": [
        "# 5. Best SVM stack classifier"
      ]
    },
    {
      "cell_type": "code",
      "execution_count": null,
      "id": "8b42f4ee",
      "metadata": {
        "id": "8b42f4ee",
        "outputId": "00364069-b9f7-4fea-b357-be4b335fb01f",
        "colab": {
          "base_uri": "https://localhost:8080/"
        }
      },
      "outputs": [
        {
          "output_type": "execute_result",
          "data": {
            "text/plain": [
              "SVC(C=0.01778279410038923, class_weight='balanced', gamma=1.3894954943731375,\n",
              "    probability=True)"
            ]
          },
          "metadata": {},
          "execution_count": 18
        }
      ],
      "source": [
        "# Generating models\n",
        "models = get_kmodels(D1_50, y1_50, 200, 1200)\n",
        "\n",
        "# Generating meta-data\n",
        "x_meta = generate_data(D2_50, models)\n",
        "y_meta = y2_50\n",
        "\n",
        "best_svm.fit(x_meta, y_meta)"
      ]
    },
    {
      "cell_type": "code",
      "execution_count": null,
      "id": "8f220978",
      "metadata": {
        "id": "8f220978",
        "outputId": "a8e25885-71aa-4fc3-81a5-3840e91158db",
        "colab": {
          "base_uri": "https://localhost:8080/"
        }
      },
      "outputs": [
        {
          "output_type": "stream",
          "name": "stdout",
          "text": [
            "Saved all models!\n"
          ]
        }
      ],
      "source": [
        "# Saving all base models\n",
        "for i in range(len(models)):\n",
        "    dump(models[i], '/content/drive/MyDrive/Colab Notebooks/Self_Case_study/1st case study/BaseModel'+str(i)+'.joblib')\n",
        "print(\"Saved all models!\")"
      ]
    },
    {
      "cell_type": "code",
      "execution_count": null,
      "id": "239157cc",
      "metadata": {
        "id": "239157cc",
        "outputId": "8bdf34ba-0fc5-4726-fd63-16fc96cb2164",
        "colab": {
          "base_uri": "https://localhost:8080/"
        }
      },
      "outputs": [
        {
          "output_type": "stream",
          "name": "stdout",
          "text": [
            "Model Saved successfully!\n"
          ]
        }
      ],
      "source": [
        "# Saving model\n",
        "dump(best_svm, '/content/drive/MyDrive/Colab Notebooks/Self_Case_study/1st case study/best_custom_model.joblib')\n",
        "print(\"Model Saved successfully!\")"
      ]
    },
    {
      "cell_type": "markdown",
      "id": "d0efcc23",
      "metadata": {
        "id": "d0efcc23"
      },
      "source": [
        "# 6. Evaluation Metrics"
      ]
    },
    {
      "cell_type": "code",
      "execution_count": 9,
      "id": "c0bd6dae",
      "metadata": {
        "id": "c0bd6dae"
      },
      "outputs": [],
      "source": [
        "# This function plots the confusion matrices given y_i, y_i_hat.\n",
        "def plot_confusion_matrix(test_y, predict_y):\n",
        "    C = confusion_matrix(test_y, predict_y)\n",
        "    # C = 9,9 matrix, each cell (i,j) represents number of points of class i are predicted class j\n",
        "    \n",
        "    A =(((C.T)/(C.sum(axis=1))).T)\n",
        "    #divide each element of the confusion matrix with the sum of elements in that column\n",
        "    \n",
        "    # C = [[1, 2],\n",
        "    #     [3, 4]]\n",
        "    # C.T = [[1, 3],\n",
        "    #        [2, 4]]\n",
        "    # C.sum(axis = 1)  axis=0 corresonds to columns and axis=1 corresponds to rows in two diamensional array\n",
        "    # C.sum(axix =1) = [[3, 7]]\n",
        "    # ((C.T)/(C.sum(axis=1))) = [[1/3, 3/7]\n",
        "    #                           [2/3, 4/7]]\n",
        "\n",
        "    # ((C.T)/(C.sum(axis=1))).T = [[1/3, 2/3]\n",
        "    #                           [3/7, 4/7]]\n",
        "    # sum of row elements = 1\n",
        "    \n",
        "    B =(C/C.sum(axis=0))\n",
        "    #divid each element of the confusion matrix with the sum of elements in that row\n",
        "    # C = [[1, 2],\n",
        "    #     [3, 4]]\n",
        "    # C.sum(axis = 0)  axis=0 corresonds to columns and axis=1 corresponds to rows in two diamensional array\n",
        "    # C.sum(axix =0) = [[4, 6]]\n",
        "    # (C/C.sum(axis=0)) = [[1/4, 2/6],\n",
        "    #                      [3/4, 4/6]] \n",
        "    plt.figure(figsize=(20,4))\n",
        "    \n",
        "    labels = [0,1]\n",
        "    # representing A in heatmap format\n",
        "    cmap=sns.light_palette(\"blue\")\n",
        "    plt.subplot(1, 3, 1)\n",
        "    sns.heatmap(C, annot=True, cmap=cmap, fmt=\".3f\", xticklabels=labels, yticklabels=labels)\n",
        "    plt.xlabel('Predicted Class')\n",
        "    plt.ylabel('Original Class')\n",
        "    plt.title(\"Confusion matrix\")\n",
        "    \n",
        "    plt.subplot(1, 3, 2)\n",
        "    sns.heatmap(B, annot=True, cmap=cmap, fmt=\".3f\", xticklabels=labels, yticklabels=labels)\n",
        "    plt.xlabel('Predicted Class')\n",
        "    plt.ylabel('Original Class')\n",
        "    plt.title(\"Precision matrix\")\n",
        "    \n",
        "    plt.subplot(1, 3, 3)\n",
        "    # representing B in heatmap format\n",
        "    sns.heatmap(A, annot=True, cmap=cmap, fmt=\".3f\", xticklabels=labels, yticklabels=labels)\n",
        "    plt.xlabel('Predicted Class')\n",
        "    plt.ylabel('Original Class')\n",
        "    plt.title(\"Recall matrix\")\n",
        "    \n",
        "    plt.show()"
      ]
    },
    {
      "cell_type": "markdown",
      "id": "a7f8ab58",
      "metadata": {
        "id": "a7f8ab58"
      },
      "source": [
        "# 7. Predictions on test data with custom model"
      ]
    },
    {
      "cell_type": "code",
      "execution_count": 14,
      "id": "e5125b24",
      "metadata": {
        "id": "e5125b24",
        "colab": {
          "base_uri": "https://localhost:8080/"
        },
        "outputId": "7ff86180-4ebf-49ca-c014-fe97f9762abf"
      },
      "outputs": [
        {
          "output_type": "stream",
          "name": "stdout",
          "text": [
            "['BaseModel134.joblib', 'BaseModel13.joblib', 'BaseModel130.joblib', 'BaseModel132.joblib', 'BaseModel128.joblib', 'BaseModel131.joblib', 'BaseModel133.joblib', 'BaseModel129.joblib', 'BaseModel126.joblib', 'BaseModel127.joblib', 'BaseModel125.joblib', 'BaseModel120.joblib', 'BaseModel121.joblib', 'BaseModel122.joblib', 'BaseModel118.joblib', 'BaseModel12.joblib', 'BaseModel117.joblib', 'BaseModel119.joblib', 'BaseModel124.joblib', 'BaseModel123.joblib', 'BaseModel116.joblib', 'BaseModel115.joblib', 'BaseModel113.joblib', 'BaseModel108.joblib', 'BaseModel112.joblib', 'BaseModel109.joblib', 'BaseModel110.joblib', 'BaseModel111.joblib', 'BaseModel11.joblib', 'BaseModel114.joblib', 'BaseModel107.joblib', 'BaseModel106.joblib', 'BaseModel105.joblib', 'BaseModel102.joblib', 'BaseModel101.joblib', 'BaseModel103.joblib', 'BaseModel100.joblib', 'BaseModel1.joblib', 'BaseModel10.joblib', 'BaseModel104.joblib', 'BaseModel0.joblib', 'BaseModel136.joblib', 'BaseModel135.joblib', 'BaseModel184.joblib', 'BaseModel183.joblib', 'BaseModel178.joblib', 'BaseModel18.joblib', 'BaseModel180.joblib', 'BaseModel177.joblib', 'BaseModel176.joblib', 'BaseModel175.joblib', 'BaseModel179.joblib', 'BaseModel182.joblib', 'BaseModel174.joblib', 'BaseModel181.joblib', 'BaseModel172.joblib', 'BaseModel168.joblib', 'BaseModel170.joblib', 'BaseModel17.joblib', 'BaseModel171.joblib', 'BaseModel169.joblib', 'BaseModel167.joblib', 'BaseModel166.joblib', 'BaseModel173.joblib', 'BaseModel165.joblib', 'BaseModel164.joblib', 'BaseModel159.joblib', 'BaseModel161.joblib', 'BaseModel16.joblib', 'BaseModel158.joblib', 'BaseModel157.joblib', 'BaseModel162.joblib', 'BaseModel160.joblib', 'BaseModel163.joblib', 'BaseModel156.joblib', 'BaseModel155.joblib', 'BaseModel154.joblib', 'BaseModel150.joblib', 'BaseModel149.joblib', 'BaseModel148.joblib', 'BaseModel152.joblib', 'BaseModel15.joblib', 'BaseModel153.joblib', 'BaseModel151.joblib', 'BaseModel146.joblib', 'BaseModel147.joblib', 'BaseModel145.joblib', 'BaseModel141.joblib', 'BaseModel139.joblib', 'BaseModel137.joblib', 'BaseModel142.joblib', 'BaseModel140.joblib', 'BaseModel14.joblib', 'BaseModel138.joblib', 'BaseModel143.joblib', 'BaseModel144.joblib', 'BaseModel47.joblib', 'BaseModel53.joblib', 'BaseModel50.joblib', 'BaseModel49.joblib', 'BaseModel48.joblib', 'BaseModel46.joblib', 'BaseModel5.joblib', 'BaseModel51.joblib', 'BaseModel52.joblib', 'BaseModel45.joblib', 'BaseModel44.joblib', 'BaseModel38.joblib', 'BaseModel39.joblib', 'BaseModel42.joblib', 'BaseModel40.joblib', 'BaseModel36.joblib', 'BaseModel4.joblib', 'BaseModel41.joblib', 'BaseModel43.joblib', 'BaseModel37.joblib', 'BaseModel35.joblib', 'BaseModel34.joblib', 'BaseModel29.joblib', 'BaseModel3.joblib', 'BaseModel30.joblib', 'BaseModel26.joblib', 'BaseModel28.joblib', 'BaseModel27.joblib', 'BaseModel31.joblib', 'BaseModel33.joblib', 'BaseModel32.joblib', 'BaseModel25.joblib', 'BaseModel24.joblib', 'BaseModel197.joblib', 'BaseModel20.joblib', 'BaseModel199.joblib', 'BaseModel198.joblib', 'BaseModel195.joblib', 'BaseModel2.joblib', 'BaseModel23.joblib', 'BaseModel196.joblib', 'BaseModel22.joblib', 'BaseModel21.joblib', 'BaseModel194.joblib', 'BaseModel193.joblib', 'BaseModel189.joblib', 'BaseModel191.joblib', 'BaseModel187.joblib', 'BaseModel186.joblib', 'BaseModel19.joblib', 'BaseModel190.joblib', 'BaseModel188.joblib', 'BaseModel192.joblib', 'BaseModel185.joblib', 'BaseModel96.joblib', 'BaseModel99.joblib', 'BaseModel98.joblib', 'BaseModel95.joblib', 'BaseModel97.joblib', 'BaseModel92.joblib', 'BaseModel94.joblib', 'BaseModel93.joblib', 'BaseModel86.joblib', 'BaseModel9.joblib', 'BaseModel89.joblib', 'BaseModel85.joblib', 'BaseModel83.joblib', 'BaseModel88.joblib', 'BaseModel87.joblib', 'BaseModel91.joblib', 'BaseModel90.joblib', 'BaseModel84.joblib', 'BaseModel82.joblib', 'BaseModel76.joblib', 'BaseModel8.joblib', 'BaseModel75.joblib', 'BaseModel77.joblib', 'BaseModel78.joblib', 'BaseModel80.joblib', 'BaseModel79.joblib', 'BaseModel81.joblib', 'BaseModel74.joblib', 'BaseModel73.joblib', 'BaseModel72.joblib', 'BaseModel66.joblib', 'BaseModel68.joblib', 'BaseModel69.joblib', 'BaseModel71.joblib', 'BaseModel7.joblib', 'BaseModel67.joblib', 'BaseModel70.joblib', 'BaseModel64.joblib', 'BaseModel65.joblib', 'BaseModel63.joblib', 'BaseModel60.joblib', 'BaseModel62.joblib', 'BaseModel58.joblib', 'BaseModel59.joblib', 'BaseModel56.joblib', 'BaseModel6.joblib', 'BaseModel61.joblib', 'BaseModel54.joblib', 'BaseModel57.joblib', 'BaseModel55.joblib']\n"
          ]
        }
      ],
      "source": [
        "# Loading base learners\n",
        "files = os.listdir('/content/drive/MyDrive/Colab Notebooks/Self_Case_study/1st case study/BaseModel')\n",
        "\n",
        "print(files)"
      ]
    },
    {
      "cell_type": "code",
      "source": [
        "models = []\n",
        "for model in files:\n",
        "    clf = load('/content/drive/MyDrive/Colab Notebooks/Self_Case_study/1st case study/BaseModel/'+model)\n",
        "    models.append(clf)"
      ],
      "metadata": {
        "id": "BbXct8j3BfsT"
      },
      "id": "BbXct8j3BfsT",
      "execution_count": 16,
      "outputs": []
    },
    {
      "cell_type": "code",
      "execution_count": 18,
      "id": "79ef31bc",
      "metadata": {
        "id": "79ef31bc",
        "outputId": "b7556eb7-1f1d-4f1e-ccdc-3973cfe71dcb",
        "colab": {
          "base_uri": "https://localhost:8080/"
        }
      },
      "outputs": [
        {
          "output_type": "execute_result",
          "data": {
            "text/plain": [
              "SVC(C=0.01778279410038923, class_weight='balanced', gamma=1.3894954943731375,\n",
              "    probability=True)"
            ]
          },
          "metadata": {},
          "execution_count": 18
        }
      ],
      "source": [
        "# Loading custom model\n",
        "stacked_clf = load('/content/drive/MyDrive/Colab Notebooks/Self_Case_study/1st case study/best_custom_model.joblib')\n",
        "stacked_clf"
      ]
    },
    {
      "cell_type": "code",
      "source": [
        "# Generating models\n",
        "models = get_kmodels(D1_50, y1_50, 200, 1200)\n",
        "\n",
        "# Generating meta-data\n",
        "x_meta = generate_data(D2_50, models)\n",
        "y_meta = y2_50"
      ],
      "metadata": {
        "id": "e8-A3ZzOXGXi"
      },
      "id": "e8-A3ZzOXGXi",
      "execution_count": 19,
      "outputs": []
    },
    {
      "cell_type": "code",
      "execution_count": 20,
      "id": "533d7a1a",
      "metadata": {
        "id": "533d7a1a"
      },
      "outputs": [],
      "source": [
        "x_meta = generate_data(X_test, models)"
      ]
    },
    {
      "cell_type": "code",
      "source": [
        "y_test_pred = stacked_clf.predict(x_meta)\n",
        "y_test_prob = stacked_clf.predict_proba(x_meta)"
      ],
      "metadata": {
        "id": "f_SFjkROFAi3"
      },
      "id": "f_SFjkROFAi3",
      "execution_count": 21,
      "outputs": []
    },
    {
      "cell_type": "code",
      "execution_count": 22,
      "id": "7454c8e5",
      "metadata": {
        "id": "7454c8e5",
        "outputId": "5b8f3156-42d9-49ee-e52a-4d3cfc450600",
        "colab": {
          "base_uri": "https://localhost:8080/",
          "height": 314
        }
      },
      "outputs": [
        {
          "output_type": "display_data",
          "data": {
            "text/plain": [
              "<Figure size 1440x288 with 6 Axes>"
            ],
            "image/png": "[encoded data removed]"
          },
          "metadata": {
            "needs_background": "light"
          }
        },
        {
          "output_type": "stream",
          "name": "stdout",
          "text": [
            "F1 score for test data:  0.5841269841269842\n",
            "Recall for test data:  0.9108910891089109\n",
            "Precision for test data:  0.42990654205607476\n"
          ]
        }
      ],
      "source": [
        "plot_confusion_matrix(y_test, y_test_pred)\n",
        "print(\"F1 score for test data: \", f1_score(y_test, y_test_pred))\n",
        "print(\"Recall for test data: \", recall_score(y_test, y_test_pred))\n",
        "print(\"Precision for test data: \", precision_score(y_test, y_test_pred))"
      ]
    },
    {
      "cell_type": "code",
      "execution_count": 23,
      "id": "5c20aaf2",
      "metadata": {
        "id": "5c20aaf2",
        "outputId": "beed30f8-7b72-441f-a76f-0caf7c3021ad",
        "colab": {
          "base_uri": "https://localhost:8080/",
          "height": 295
        }
      },
      "outputs": [
        {
          "output_type": "display_data",
          "data": {
            "text/plain": [
              "<Figure size 432x288 with 1 Axes>"
            ],
            "image/png": "[encoded data removed]"
          },
          "metadata": {
            "needs_background": "light"
          }
        }
      ],
      "source": [
        "# AUC Score\n",
        "test_fpr_tfidf, test_tpr_tfidf, te_thresholds_tfidf = roc_curve(y_test, y_test_prob[:, 1])\n",
        "\n",
        "plt.plot(test_fpr_tfidf, test_tpr_tfidf, label=\"test AUC =\"+str(auc(test_fpr_tfidf, test_tpr_tfidf)))\n",
        "plt.legend()\n",
        "plt.xlabel(\"False Positive Rate\")\n",
        "plt.ylabel(\"True Positive Rate\")\n",
        "plt.title(\"ROC Curve(Stacked Classifier)\")\n",
        "plt.grid()\n",
        "plt.show()"
      ]
    },
    {
      "cell_type": "markdown",
      "id": "7bc4ca4a",
      "metadata": {
        "id": "7bc4ca4a"
      },
      "source": [
        "# 9. Custom Model vs Logistic Regression"
      ]
    },
    {
      "cell_type": "code",
      "execution_count": 25,
      "id": "78bc77ad",
      "metadata": {
        "id": "78bc77ad",
        "outputId": "83b7bcd6-2943-4ffa-9981-3842fa31bcd0",
        "colab": {
          "base_uri": "https://localhost:8080/"
        }
      },
      "outputs": [
        {
          "output_type": "stream",
          "name": "stdout",
          "text": [
            "+------------------------+-----------------+-----------------+--------+-------+\n",
            "|       Model Name       | False Negatives | False Positives | Recall |   F1  |\n",
            "+------------------------+-----------------+-----------------+--------+-------+\n",
            "|  Logistic Regression   |        24       |       133       |  0.84  |  0.61 |\n",
            "| Custom Ensemble LR+SVM |        9        |       122       |  0.91  | 0.585 |\n",
            "+------------------------+-----------------+-----------------+--------+-------+\n"
          ]
        }
      ],
      "source": [
        "from prettytable import PrettyTable\n",
        "tb = PrettyTable()\n",
        "tb.field_names= (\"Model Name\", \"False Negatives\", \"False Positives\", \"Recall\", \"F1\")\n",
        "tb.add_row([\"Logistic Regression\", 24, 133, 0.84, 0.61])\n",
        "tb.add_row([\"Custom Ensemble LR+SVM\", 9, 122, 0.91, 0.585])\n",
        "print(tb)"
      ]
    },
    {
      "cell_type": "markdown",
      "id": "9fd8e44d",
      "metadata": {
        "id": "9fd8e44d"
      },
      "source": [
        "## Observations:\n",
        "<ul>\n",
        "    <li> The no. of false negatives in CustomSVM ensemble model is significantly lesser than Logistic Regression \n",
        "    <li> Since, the cost of mis-classiffication of false negative is high for our problem, the best model is custom model which has a better Recall score. </li>\n",
        "</ul>"
      ]
    }
  ],
  "metadata": {
    "kernelspec": {
      "display_name": "Python 3",
      "language": "python",
      "name": "python3"
    },
    "language_info": {
      "codemirror_mode": {
        "name": "ipython",
        "version": 3
      },
      "file_extension": ".py",
      "mimetype": "text/x-python",
      "name": "python",
      "nbconvert_exporter": "python",
      "pygments_lexer": "ipython3",
      "version": "3.8.8"
    },
    "colab": {
      "name": "4_CustomModel.ipynb",
      "provenance": [],
      "collapsed_sections": []
    }
  },
  "nbformat": 4,
  "nbformat_minor": 5
}